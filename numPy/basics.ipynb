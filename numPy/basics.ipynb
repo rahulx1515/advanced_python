{
 "cells": [
  {
   "cell_type": "markdown",
   "id": "04fae80f",
   "metadata": {},
   "source": [
    "Every function of numpy works on array"
   ]
  },
  {
   "cell_type": "code",
   "execution_count": 48,
   "id": "a839280f",
   "metadata": {},
   "outputs": [],
   "source": [
    "import numpy as np\n",
    "import time"
   ]
  },
  {
   "cell_type": "code",
   "execution_count": 49,
   "id": "be4cb9fc",
   "metadata": {},
   "outputs": [
    {
     "name": "stdout",
     "output_type": "stream",
     "text": [
      "[2, [4, 100], 5, <built-in function ord>, range(0, 100)]\n"
     ]
    }
   ],
   "source": [
    "# list vs numpy\n",
    "lst = [2, [4], 5, ord, range(100)]\n",
    "ans = lst[1]\n",
    "ans.append(100)\n",
    "print(lst)"
   ]
  },
  {
   "cell_type": "code",
   "execution_count": 50,
   "id": "a5b43ea0",
   "metadata": {},
   "outputs": [],
   "source": [
    "data = range(1, 1000000)\n",
    "lst = list(data)\n",
    "arr = np.array(data)"
   ]
  },
  {
   "cell_type": "code",
   "execution_count": 51,
   "id": "659fbfce",
   "metadata": {},
   "outputs": [
    {
     "name": "stdout",
     "output_type": "stream",
     "text": [
      "List time 0.12105011940002441\n",
      "Array time 0.005329608917236328\n"
     ]
    }
   ],
   "source": [
    "start = time.time()\n",
    "res = [i*2 for i in lst]\n",
    "stop = time.time()\n",
    "duration = stop - start\n",
    "print('List time', duration)\n",
    "\n",
    "start = time.time()\n",
    "res2 = arr*2\n",
    "stop = time.time()\n",
    "duration = stop - start\n",
    "print('Array time', duration)\n"
   ]
  },
  {
   "cell_type": "code",
   "execution_count": 52,
   "id": "d72b7742",
   "metadata": {},
   "outputs": [
    {
     "name": "stdout",
     "output_type": "stream",
     "text": [
      "Array <class 'numpy.int8'>\n",
      "List <class 'int'>\n"
     ]
    }
   ],
   "source": [
    "data = [2, 4, 5, 127]\n",
    "arr = np.array(data, dtype='int8')\n",
    "print('Array', type(arr[0]))\n",
    "print('List', type(data[0]))"
   ]
  },
  {
   "cell_type": "code",
   "execution_count": 53,
   "id": "b1095c2c",
   "metadata": {},
   "outputs": [
    {
     "data": {
      "text/plain": [
       "1744347876.3852842"
      ]
     },
     "execution_count": 53,
     "metadata": {},
     "output_type": "execute_result"
    }
   ],
   "source": [
    "time.time()"
   ]
  },
  {
   "cell_type": "code",
   "execution_count": 54,
   "id": "d5e69512",
   "metadata": {},
   "outputs": [
    {
     "data": {
      "text/plain": [
       "'\\nndArray = np.array(data[sequential])\\n\\n'"
      ]
     },
     "execution_count": 54,
     "metadata": {},
     "output_type": "execute_result"
    }
   ],
   "source": [
    "## numpy array\n",
    "\n",
    "'''\n",
    "ndArray = np.array(data[sequential])\n",
    "\n",
    "'''"
   ]
  },
  {
   "cell_type": "code",
   "execution_count": 55,
   "id": "76cfdc12",
   "metadata": {},
   "outputs": [
    {
     "name": "stdout",
     "output_type": "stream",
     "text": [
      "[1.+0.j 2.+0.j 3.+0.j 4.+0.j 5.+0.j 6.+0.j 7.+0.j 8.+0.j 9.+0.j]\n"
     ]
    }
   ],
   "source": [
    "import numpy as np\n",
    "data = range(1, 10)\n",
    "arr = np.array(data, dtype=complex)\n",
    "print(arr)"
   ]
  },
  {
   "cell_type": "code",
   "execution_count": 56,
   "id": "9693ca08",
   "metadata": {},
   "outputs": [
    {
     "name": "stdout",
     "output_type": "stream",
     "text": [
      "[[1 3 5 6 8]]\n",
      "Dimension 2\n",
      "Shape (1, 5)\n"
     ]
    }
   ],
   "source": [
    "lst = [1, 3, 5, 6, 8]\n",
    "arr2 = np.array(lst, ndmin=2)\n",
    "print(arr2)\n",
    "print('Dimension', arr2.ndim)\n",
    "print('Shape', arr2.shape)"
   ]
  },
  {
   "cell_type": "code",
   "execution_count": 57,
   "id": "630d52e4",
   "metadata": {},
   "outputs": [
    {
     "name": "stdout",
     "output_type": "stream",
     "text": [
      "[2 3 4 5 6 7 8 1 5]\n",
      "<class 'numpy.int8'>\n",
      "[[2]\n",
      " [3]\n",
      " [4]\n",
      " [5]\n",
      " [6]\n",
      " [7]\n",
      " [8]\n",
      " [1]\n",
      " [5]]\n"
     ]
    }
   ],
   "source": [
    "lst = [2, 3, 4, 5, 6, 7, 8, 1, 5]\n",
    "arr = np.array(lst, dtype='int8')\n",
    "print(arr)\n",
    "print(type(arr[0]))\n",
    "arr.shape = 9, 1\n",
    "print(arr)"
   ]
  },
  {
   "cell_type": "code",
   "execution_count": 58,
   "id": "be077ae5",
   "metadata": {},
   "outputs": [
    {
     "name": "stdout",
     "output_type": "stream",
     "text": [
      "[np.float64(1.0), np.float64(1.5), np.float64(2.0), np.float64(2.5), np.float64(3.0), np.float64(3.5), np.float64(4.0), np.float64(4.5), np.float64(5.0), np.float64(5.5), np.float64(6.0), np.float64(6.5), np.float64(7.0), np.float64(7.5), np.float64(8.0), np.float64(8.5), np.float64(9.0), np.float64(9.5)]\n"
     ]
    }
   ],
   "source": [
    "## arange(start, stop, step)\n",
    "data = np.arange(1, 10, 0.5)\n",
    "print(list(data))"
   ]
  },
  {
   "cell_type": "code",
   "execution_count": 59,
   "id": "1e9edf1c",
   "metadata": {},
   "outputs": [
    {
     "name": "stdout",
     "output_type": "stream",
     "text": [
      "[1.  1.5 2. ]\n"
     ]
    }
   ],
   "source": [
    "# linepace(start, stop, number of sample)\n",
    "data = np.linspace(1, 2, 3)\n",
    "print(data)"
   ]
  },
  {
   "cell_type": "code",
   "execution_count": 60,
   "id": "d5fe1255",
   "metadata": {},
   "outputs": [
    {
     "name": "stdout",
     "output_type": "stream",
     "text": [
      "[    1 20000     4]\n"
     ]
    }
   ],
   "source": [
    "data = np.array([1, 20000, 4])\n",
    "print(data)"
   ]
  },
  {
   "cell_type": "code",
   "execution_count": 65,
   "id": "5b99e96b",
   "metadata": {},
   "outputs": [
    {
     "name": "stdout",
     "output_type": "stream",
     "text": [
      "[2.5 3.4 5.5]\n"
     ]
    },
    {
     "data": {
      "text/plain": [
       "5"
      ]
     },
     "execution_count": 65,
     "metadata": {},
     "output_type": "execute_result"
    }
   ],
   "source": [
    "## benefit of array - searching and sorting\n",
    "## on .5 it gives even priority (odd->even, even->even)\n",
    "arr = np.array([2.5, 3.45, 5.45456])\n",
    "val = 4.6\n",
    "print(np.around(arr, 1))\n",
    "round(val)"
   ]
  },
  {
   "cell_type": "code",
   "execution_count": null,
   "id": "02661a42",
   "metadata": {},
   "outputs": [
    {
     "name": "stdout",
     "output_type": "stream",
     "text": [
      "\n",
      "Matrix1\n",
      "[[1 2 3]\n",
      " [3 4 6]]\n",
      "\n",
      "Matrix2\n",
      "[[0 3 4]\n",
      " [4 5 6]]\n",
      "\n",
      "Addition\n",
      "[[ 1  5  7]\n",
      " [ 7  9 12]]\n"
     ]
    }
   ],
   "source": [
    "## matrix\n",
    "\n",
    "M1 = [[1, 2, 3], [3, 4, 6]]\n",
    "M2 = [[0, 3, 4], [4, 5, 6]]\n",
    "\n",
    "arr1 = np.array(M1)\n",
    "arr2 = np.array(M2)\n",
    "\n",
    "if arr1.shape == arr2.shape:\n",
    "    res = np.add(arr1, arr2)\n",
    "    print('\\nMatrix1')\n",
    "    print(arr1)\n",
    "    print('\\nMatrix2')\n",
    "    print(arr2)\n",
    "    print('\\nAddition')\n",
    "    print(res)\n",
    "else:\n",
    "    print('Not valid dimension for addition')\n",
    "\n"
   ]
  }
 ],
 "metadata": {
  "kernelspec": {
   "display_name": "Python 3",
   "language": "python",
   "name": "python3"
  },
  "language_info": {
   "codemirror_mode": {
    "name": "ipython",
    "version": 3
   },
   "file_extension": ".py",
   "mimetype": "text/x-python",
   "name": "python",
   "nbconvert_exporter": "python",
   "pygments_lexer": "ipython3",
   "version": "3.12.4"
  }
 },
 "nbformat": 4,
 "nbformat_minor": 5
}
