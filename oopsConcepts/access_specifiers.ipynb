{
 "cells": [
  {
   "cell_type": "code",
   "execution_count": null,
   "metadata": {},
   "outputs": [],
   "source": [
    "## Private\n",
    "\n",
    "class Student:\n",
    "    count = 0\n",
    "    __section = \"EB\"\n",
    "    def method1(self):\n",
    "        return 'Method1'\n",
    "    \n",
    "#Main\n",
    "obj1 = Student()\n",
    "print(obj1.count)\n",
    "print(obj1.__section)\n",
    "print(obj1.method())"
   ]
  },
  {
   "cell_type": "code",
   "execution_count": null,
   "metadata": {},
   "outputs": [],
   "source": [
    "## Protected\n",
    "\n",
    "class Student:\n",
    "    count = 0\n",
    "    _section = \"EB\"\n",
    "    def method1(self):\n",
    "        return 'Method1'\n",
    "    \n",
    "#Main\n",
    "obj1 = Student()\n",
    "print(obj1.count)\n",
    "print(obj1._section)\n",
    "print(obj1.method())"
   ]
  }
 ],
 "metadata": {
  "kernelspec": {
   "display_name": "Python 3",
   "language": "python",
   "name": "python3"
  },
  "language_info": {
   "name": "python",
   "version": "3.12.4"
  }
 },
 "nbformat": 4,
 "nbformat_minor": 2
}
