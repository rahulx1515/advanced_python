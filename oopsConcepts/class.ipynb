{
 "cells": [
  {
   "cell_type": "code",
   "execution_count": null,
   "metadata": {},
   "outputs": [],
   "source": [
    "# How to initialize a class\n",
    "\n",
    "'''\n",
    "Syntax:\n",
    "class ClassName:\n",
    "    \"class documentation\"\n",
    "    class variable/Attribute/Static variable\n",
    "    def __init__(self): constructor\n",
    "    method(1)....\n",
    "    method(2)....\n",
    "    '\n",
    "    '\n",
    "    '\n",
    "'''\n",
    "\n",
    "'''\n",
    "Syntax for Instanciation\n",
    "\n",
    "obj = ClassName()\n",
    "obj.attr\n",
    "'''"
   ]
  },
  {
   "cell_type": "code",
   "execution_count": null,
   "metadata": {},
   "outputs": [],
   "source": [
    "## Class Variable -- attributes stored all instances of a class\n",
    "## Instance Variable -- attributes that are specific to an instance"
   ]
  },
  {
   "cell_type": "code",
   "execution_count": 13,
   "metadata": {},
   "outputs": [
    {
     "name": "stdout",
     "output_type": "stream",
     "text": [
      "0\n"
     ]
    }
   ],
   "source": [
    "class Student:\n",
    "    count = 0 # class variable\n",
    "\n",
    "#Student.count = 23\n",
    "\n",
    "obj1 = Student()\n",
    "obj2 = Student()\n",
    "obj1.count = 20\n",
    "print(Student.count)\n",
    "\n",
    "\n",
    "## we can't update the class variable by instance\n"
   ]
  },
  {
   "cell_type": "code",
   "execution_count": 1,
   "metadata": {},
   "outputs": [
    {
     "name": "stdout",
     "output_type": "stream",
     "text": [
      "student count 2\n"
     ]
    }
   ],
   "source": [
    "class student:\n",
    "    count = 0 # class variable\n",
    "    def __init__(self, name, rolln):\n",
    "        self.name = name  # instance variable\n",
    "        self.rolln = rolln\n",
    "        student.count += 1\n",
    "    @classmethod\n",
    "    def get_count(cls):\n",
    "        return f'student count {cls.count}'\n",
    "\n",
    "\n",
    "obj1 = student('ravi', 23)\n",
    "obj2 = student('sahil', 10)\n",
    "\n",
    "print(obj1.get_count())\n",
    "\n"
   ]
  },
  {
   "cell_type": "code",
   "execution_count": 3,
   "metadata": {},
   "outputs": [
    {
     "name": "stdout",
     "output_type": "stream",
     "text": [
      "10\n"
     ]
    }
   ],
   "source": [
    "class Student:\n",
    "    count = 0 # class variable\n",
    "    def __init__(self, name, rolln):\n",
    "        self.name = name # Instance variable\n",
    "        self.rolln = rolln\n",
    "\n",
    "    def __str__(self):\n",
    "        return '10'\n",
    "\n",
    "    def __repr__(self):\n",
    "        return \"I'm repr\"\n",
    "obj1 = Student('Ravi', 34)\n",
    "obj2 = Student('Monu', 65)\n",
    "print(obj1)"
   ]
  },
  {
   "cell_type": "code",
   "execution_count": 4,
   "metadata": {},
   "outputs": [
    {
     "name": "stdout",
     "output_type": "stream",
     "text": [
      "Student count is 2\n"
     ]
    }
   ],
   "source": [
    "class Student:\n",
    "    count = 0\n",
    "    section = 'EB'\n",
    "    def __init__(self, name):\n",
    "        self.name = name\n",
    "        Student.count += 1\n",
    "\n",
    "    @classmethod\n",
    "    def disp_count(cls):\n",
    "        return f'Student count is {cls.count}'\n",
    "    \n",
    "\n",
    "\n",
    "obj1 = Student(\"Monu\")\n",
    "obj2 = Student(\"Sonu\")\n",
    "print(obj2.disp_count())"
   ]
  },
  {
   "cell_type": "code",
   "execution_count": null,
   "metadata": {},
   "outputs": [],
   "source": []
  }
 ],
 "metadata": {
  "kernelspec": {
   "display_name": "Python 3",
   "language": "python",
   "name": "python3"
  },
  "language_info": {
   "codemirror_mode": {
    "name": "ipython",
    "version": 3
   },
   "file_extension": ".py",
   "mimetype": "text/x-python",
   "name": "python",
   "nbconvert_exporter": "python",
   "pygments_lexer": "ipython3",
   "version": "3.12.4"
  }
 },
 "nbformat": 4,
 "nbformat_minor": 2
}
