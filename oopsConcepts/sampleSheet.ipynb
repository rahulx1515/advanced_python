{
 "cells": [
  {
   "cell_type": "code",
   "execution_count": 34,
   "metadata": {},
   "outputs": [
    {
     "name": "stdout",
     "output_type": "stream",
     "text": [
      "Paid 1000 using Credit Card.\n",
      "Paid 1000 using Debit Card.\n",
      "Paid 1000 in Cash.\n"
     ]
    }
   ],
   "source": [
    "# Problem Statement:\n",
    "# Design a base class PaymentMethod with a method pay(amount). Create derived classes CreditCard, \n",
    "# DebitCard, and Cash that override the pay() method to print the respective payment messages.\n",
    "\n",
    "class PaymentMethod:\n",
    "    def pay(self, amount):\n",
    "        pass\n",
    "\n",
    "class CreditCard(PaymentMethod):\n",
    "    def pay(self, amount):\n",
    "        print(f\"Paid {amount} using Credit Card.\")\n",
    "\n",
    "class DebitCard(PaymentMethod):\n",
    "    def pay(self, amount):\n",
    "        print(f\"Paid {amount} using Debit Card.\")\n",
    "\n",
    "class Cash(PaymentMethod):\n",
    "    def pay(self, amount):\n",
    "        print(f\"Paid {amount} in Cash.\")\n",
    "\n",
    "amount = int(input(\"Enter amount: \"))\n",
    "cc = CreditCard()\n",
    "dc = DebitCard()\n",
    "cash = Cash()\n",
    "cc.pay(amount)\n",
    "dc.pay(amount)\n",
    "cash.pay(amount)\n"
   ]
  },
  {
   "cell_type": "code",
   "execution_count": null,
   "metadata": {},
   "outputs": [
    {
     "name": "stdout",
     "output_type": "stream",
     "text": [
      "Total: 1000\n"
     ]
    }
   ],
   "source": [
    "# Problem Statement:\n",
    "# Create an Item class and a ShoppingCart class that allows adding items, removing items,\n",
    "# and calculating the total price.\n",
    "\n",
    "class Item:\n",
    "    def __init__(self, name, price):\n",
    "        self.name = name\n",
    "        self.price = price\n",
    "\n",
    "class ShoppingCart:\n",
    "    def __init__(self):\n",
    "        self.items = []\n",
    "\n",
    "    def add_item(self, name, price):\n",
    "        self.items.append(Item(name, price))\n",
    "\n",
    "    def remove_item(self, name):\n",
    "        for item in self.items:\n",
    "            if item.name == name:\n",
    "                self.items.remove(item)\n",
    "\n",
    "    def total_price(self):\n",
    "        return sum(item.price for item in self.items)\n",
    "\n",
    "cart = ShoppingCart()\n",
    "cart.add_item(\"Laptop\", 1000)\n",
    "cart.add_item(\"Mouse\", 50)\n",
    "cart.remove_item(\"Mouse\")\n",
    "print(\"Total:\", cart.total_price())\n"
   ]
  },
  {
   "cell_type": "code",
   "execution_count": null,
   "metadata": {},
   "outputs": [
    {
     "name": "stdout",
     "output_type": "stream",
     "text": [
      "5200\n",
      "8500\n"
     ]
    },
    {
     "ename": "",
     "evalue": "",
     "output_type": "error",
     "traceback": [
      "\u001b[1;31mThe Kernel crashed while executing code in the current cell or a previous cell. \n",
      "\u001b[1;31mPlease review the code in the cell(s) to identify a possible cause of the failure. \n",
      "\u001b[1;31mClick <a href='https://aka.ms/vscodeJupyterKernelCrash'>here</a> for more info. \n",
      "\u001b[1;31mView Jupyter <a href='command:jupyter.viewOutput'>log</a> for further details."
     ]
    }
   ],
   "source": [
    "# Problem Statement:\n",
    "# Define a base class Employee and derive two subclasses, Manager and Developer. Override the calculate_salary() method \n",
    "# with different salary structures.\n",
    "\n",
    "class Employee:\n",
    "    def __init__(self, name, base_salary):\n",
    "        self.name = name\n",
    "        self.base_salary = base_salary\n",
    "\n",
    "    def calculate_salary(self):\n",
    "        return self.base_salary\n",
    "\n",
    "class Manager(Employee):\n",
    "    def __init__(self, name, base_salary, bonus):\n",
    "        super().__init__(name, base_salary)\n",
    "        self.bonus = bonus\n",
    "\n",
    "    def calculate_salary(self):\n",
    "        return self.base_salary + self.bonus\n",
    "\n",
    "class Developer(Employee):\n",
    "    def __init__(self, name, base_salary, overtime_hours, overtime_rate):\n",
    "        super().__init__(name, base_salary)\n",
    "        self.overtime_hours = overtime_hours\n",
    "        self.overtime_rate = overtime_rate\n",
    "\n",
    "    def calculate_salary(self):\n",
    "        return self.base_salary + (self.overtime_hours * self.overtime_rate)\n",
    "\n",
    "dev = Developer(\"Alice\", 5000, 10, 20)\n",
    "mgr = Manager(\"Bob\", 7000, 1500)\n",
    "print(dev.calculate_salary())\n",
    "print(mgr.calculate_salary())"
   ]
  },
  {
   "cell_type": "code",
   "execution_count": null,
   "metadata": {},
   "outputs": [
    {
     "name": "stdout",
     "output_type": "stream",
     "text": [
      "5500\n"
     ]
    }
   ],
   "source": [
    "# Problem Statement:\n",
    "# Implement an Employee class with private attributes for name and salary. Use getter and setter methods to manage them.\n",
    "\n",
    "class Employee:\n",
    "    def __init__(self, name, salary):\n",
    "        self.__name = name\n",
    "        self.__salary = salary\n",
    "\n",
    "    def get_name(self):\n",
    "        return self.__name\n",
    "\n",
    "    def set_name(self, name):\n",
    "        self.__name = name\n",
    "\n",
    "    def get_salary(self):\n",
    "        return self.__salary\n",
    "\n",
    "    def set_salary(self, salary):\n",
    "        self.__salary = salary\n",
    "\n",
    "emp = Employee(\"John\", 5000)\n",
    "emp.set_salary(5500)\n",
    "print(emp.get_salary())\n"
   ]
  },
  {
   "cell_type": "code",
   "execution_count": null,
   "metadata": {},
   "outputs": [
    {
     "name": "stdout",
     "output_type": "stream",
     "text": [
      "1200\n"
     ]
    }
   ],
   "source": [
    "# Problem Statement:\n",
    "# Create a BankAccount class with methods to deposit, withdraw, and display the balance. Ensure that withdrawal is only \n",
    "# allowed if sufficient balance is available.\n",
    "\n",
    "class BankAccount:\n",
    "    def __init__(self, account_number, balance):\n",
    "        self.account_number = account_number\n",
    "        self.balance = balance\n",
    "\n",
    "    def deposit(self, amount):\n",
    "        self.balance += amount\n",
    "\n",
    "    def withdraw(self, amount):\n",
    "        if amount <= self.balance:\n",
    "            self.balance -= amount\n",
    "        else:\n",
    "            print(\"Insufficient balance.\")\n",
    "\n",
    "    def get_balance(self):\n",
    "        return self.balance\n",
    "\n",
    "acc = BankAccount(\"12345\", 1000)\n",
    "acc.deposit(500)\n",
    "acc.withdraw(300)\n",
    "print(acc.get_balance())"
   ]
  },
  {
   "cell_type": "code",
   "execution_count": null,
   "metadata": {},
   "outputs": [
    {
     "name": "stdout",
     "output_type": "stream",
     "text": [
      "Book Found: Python Basics by John Doe\n"
     ]
    }
   ],
   "source": [
    "# Problem Statement:\n",
    "# Create a Book class and a Library class where users can add, remove, and search for books.\n",
    "\n",
    "class Book:\n",
    "    def __init__(self, title, author):\n",
    "        self.title = title\n",
    "        self.author = author\n",
    "\n",
    "class Library:\n",
    "    def __init__(self):\n",
    "        self.books = []\n",
    "\n",
    "    def add_book(self, book):\n",
    "        self.books.append(book)\n",
    "\n",
    "    def remove_book(self, title):\n",
    "        self.books = [book for book in self.books if book.title != title]\n",
    "\n",
    "    def search_book(self, title):\n",
    "        for book in self.books:\n",
    "            if book.title == title:\n",
    "                return f\"Book Found: {book.title} by {book.author}\"\n",
    "        return \"Book Not Found\"\n",
    "\n",
    "lib = Library()\n",
    "lib.add_book(Book(\"Python Basics\", \"John Doe\"))\n",
    "print(lib.search_book(\"Python Basics\"))"
   ]
  },
  {
   "cell_type": "code",
   "execution_count": null,
   "metadata": {},
   "outputs": [
    {
     "name": "stdout",
     "output_type": "stream",
     "text": [
      "Total: 0\n"
     ]
    }
   ],
   "source": [
    "# Problem Statement:\n",
    "# Create an Order class that allows adding and removing products and calculating the total cost.\n",
    "\n",
    "class Order:\n",
    "    def __init__(self):\n",
    "        self.products = {}\n",
    "\n",
    "    def add_product(self, product, price):\n",
    "        self.products[product] = price\n",
    "\n",
    "    def remove_product(self, product):\n",
    "        if product in self.products:\n",
    "            del self.products[product]\n",
    "\n",
    "    def calculate_total(self):\n",
    "        return sum(self.products.values())\n",
    "\n",
    "order = Order()\n",
    "order.add_product(\"Laptop\", 1000)\n",
    "order.add_product(\"Phone\", 500)\n",
    "order.remove_product(\"Phone\")\n",
    "print(\"Total:\", order.calculate_total())"
   ]
  },
  {
   "cell_type": "code",
   "execution_count": null,
   "metadata": {},
   "outputs": [
    {
     "name": "stdout",
     "output_type": "stream",
     "text": [
      "Average Grade: 85.0\n"
     ]
    }
   ],
   "source": [
    "# Problem Statement:\n",
    "# Create a Student class that stores student details and calculates the average grade.\n",
    "\n",
    "class Student:\n",
    "    def __init__(self, name):\n",
    "        self.name = name\n",
    "        self.grades = []\n",
    "\n",
    "    def add_grade(self, grade):\n",
    "        self.grades.append(grade)\n",
    "\n",
    "    def calculate_average(self):\n",
    "        return sum(self.grades) / len(self.grades) if self.grades else 0\n",
    "\n",
    "stu = Student(\"Alice\")\n",
    "stu.add_grade(90)\n",
    "stu.add_grade(80)\n",
    "print(\"Average Grade:\", stu.calculate_average())"
   ]
  },
  {
   "cell_type": "code",
   "execution_count": null,
   "metadata": {},
   "outputs": [
    {
     "name": "stdout",
     "output_type": "stream",
     "text": [
      "Car Brand: Toyota, Doors: 4\n",
      "Bike Brand: Yamaha, Type: Sports\n"
     ]
    }
   ],
   "source": [
    "# Problem Statement:\n",
    "# Create a base class Vehicle and derive Car and Bike with a method to display information.\n",
    "\n",
    "class Vehicle:\n",
    "    def __init__(self, brand):\n",
    "        self.brand = brand\n",
    "\n",
    "    def display_info(self):\n",
    "        print(f\"Vehicle Brand: {self.brand}\")\n",
    "\n",
    "class Car(Vehicle):\n",
    "    def __init__(self, brand, doors):\n",
    "        super().__init__(brand)\n",
    "        self.doors = doors\n",
    "\n",
    "    def display_info(self):\n",
    "        print(f\"Car Brand: {self.brand}, Doors: {self.doors}\")\n",
    "\n",
    "class Bike(Vehicle):\n",
    "    def __init__(self, brand, type):\n",
    "        super().__init__(brand)\n",
    "        self.type = type\n",
    "\n",
    "    def display_info(self):\n",
    "        print(f\"Bike Brand: {self.brand}, Type: {self.type}\")\n",
    "\n",
    "car = Car(\"Toyota\", 4)\n",
    "bike = Bike(\"Yamaha\", \"Sports\")\n",
    "car.display_info()\n",
    "bike.display_info()"
   ]
  },
  {
   "cell_type": "code",
   "execution_count": null,
   "metadata": {},
   "outputs": [
    {
     "name": "stdout",
     "output_type": "stream",
     "text": [
      "Balance: 1200\n"
     ]
    }
   ],
   "source": [
    "# Problem Statement:\n",
    "# Create an ATM class with methods to withdraw, deposit, and check balance, ensuring transaction limits\n",
    "\n",
    "class ATM:\n",
    "    def __init__(self, balance):\n",
    "        self.balance = balance\n",
    "\n",
    "    def deposit(self, amount):\n",
    "        self.balance += amount\n",
    "\n",
    "    def withdraw(self, amount):\n",
    "        if amount > self.balance:\n",
    "            print(\"Insufficient balance.\")\n",
    "        else:\n",
    "            self.balance -= amount\n",
    "\n",
    "    def check_balance(self):\n",
    "        return self.balance\n",
    "\n",
    "atm = ATM(1000)\n",
    "atm.deposit(500)\n",
    "atm.withdraw(300)\n",
    "print(\"Balance:\", atm.check_balance())"
   ]
  }
 ],
 "metadata": {
  "kernelspec": {
   "display_name": "Python 3",
   "language": "python",
   "name": "python3"
  },
  "language_info": {
   "codemirror_mode": {
    "name": "ipython",
    "version": 3
   },
   "file_extension": ".py",
   "mimetype": "text/x-python",
   "name": "python",
   "nbconvert_exporter": "python",
   "pygments_lexer": "ipython3",
   "version": "3.12.4"
  }
 },
 "nbformat": 4,
 "nbformat_minor": 2
}
