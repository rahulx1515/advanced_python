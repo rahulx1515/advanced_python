{
 "cells": [
  {
   "cell_type": "code",
   "execution_count": 4,
   "metadata": {},
   "outputs": [
    {
     "name": "stdout",
     "output_type": "stream",
     "text": [
      "3.43\n"
     ]
    }
   ],
   "source": [
    "# Task: Create a Student class to calculate GPA from a list of courses.\n",
    "# Input: List of tuples (credit, grade) for courses.\n",
    "# Output: GPA (float, 2 decimal places).\n",
    "\n",
    "class Student:\n",
    "    def __init__(self, name):\n",
    "        self.name = name\n",
    "        self.courses = []\n",
    "    \n",
    "    def add_course(self, credit, grade):\n",
    "        self.courses.append((credit, grade))\n",
    "    \n",
    "    def calculate_gpa(self):\n",
    "        grade_points = {'A': 4.0, 'B': 3.0, 'C': 2.0, 'D': 1.0, 'F': 0.0}\n",
    "        total_credits = 0\n",
    "        total_points = 0\n",
    "        \n",
    "        for credit, grade in self.courses:\n",
    "            if grade in grade_points:\n",
    "                total_credits += credit\n",
    "                total_points += credit * grade_points[grade]\n",
    "        \n",
    "        return total_points / total_credits if total_credits > 0 else 0.0\n",
    "\n",
    "# Test Input\n",
    "student = Student(\"Alice\")\n",
    "student.add_course(3, 'A')  # 3 * 4.0 = 12.0\n",
    "student.add_course(4, 'B')  # 4 * 3.0 = 12.0\n",
    "print(f\"{student.calculate_gpa():.2f}\")  # Expected Output: 3.14\n"
   ]
  },
  {
   "cell_type": "code",
   "execution_count": 2,
   "metadata": {},
   "outputs": [
    {
     "name": "stdout",
     "output_type": "stream",
     "text": [
      "2020 Toyota Camry, 4 doors\n"
     ]
    }
   ],
   "source": [
    "# Task: Create a Vehicle superclass and a Car subclass with additional attributes.\n",
    "# Input: model, year, num_doors.\n",
    "# Output: Formatted vehicle info including doors.\n",
    "\n",
    "class Vehicle:\n",
    "    def __init__(self, model, year):\n",
    "        self.model = model\n",
    "        self.year = year\n",
    "    \n",
    "    def display_info(self):\n",
    "        return f\"{self.year} {self.model}\"\n",
    "\n",
    "class Car(Vehicle):\n",
    "    def __init__(self, model, year, num_doors):\n",
    "        super().__init__(model, year)\n",
    "        self.num_doors = num_doors\n",
    "    \n",
    "    def display_info(self):\n",
    "        return f\"{self.year} {self.model}, {self.num_doors} doors\"\n",
    "\n",
    "# Test Input\n",
    "car = Car(\"Toyota Camry\", 2020, 4)\n",
    "print(car.display_info())  # Expected Output: \"2020 Toyota Camry, 4 doors\"\n"
   ]
  },
  {
   "cell_type": "code",
   "execution_count": 6,
   "metadata": {},
   "outputs": [
    {
     "name": "stdout",
     "output_type": "stream",
     "text": [
      "120\n"
     ]
    }
   ],
   "source": [
    "# Task: Implement a BankAccount class with private balance and transaction methods.\n",
    "# Input: initial_balance, followed by transactions.\n",
    "# Output: Final balance after deposits/withdrawals.\n",
    "\n",
    "class BankAccount:\n",
    "    def __init__(self, initial_balance):\n",
    "        self.__balance = initial_balance  # Private attribute\n",
    "    \n",
    "    def deposit(self, amount):\n",
    "        self.__balance += amount\n",
    "    \n",
    "    def withdraw(self, amount):\n",
    "        if amount <= self.__balance:  # Prevent overdraft\n",
    "            self.__balance -= amount\n",
    "    \n",
    "    def get_balance(self):\n",
    "        return self.__balance\n",
    "\n",
    "# Test Input\n",
    "acc = BankAccount(100)\n",
    "acc.deposit(50)\n",
    "acc.withdraw(30)\n",
    "print(acc.get_balance())  # Expected Output: 120\n"
   ]
  },
  {
   "cell_type": "code",
   "execution_count": null,
   "metadata": {},
   "outputs": [
    {
     "name": "stdout",
     "output_type": "stream",
     "text": [
      "153.94\n"
     ]
    },
    {
     "ename": "",
     "evalue": "",
     "output_type": "error",
     "traceback": [
      "\u001b[1;31mThe Kernel crashed while executing code in the current cell or a previous cell. \n",
      "\u001b[1;31mPlease review the code in the cell(s) to identify a possible cause of the failure. \n",
      "\u001b[1;31mClick <a href='https://aka.ms/vscodeJupyterKernelCrash'>here</a> for more info. \n",
      "\u001b[1;31mView Jupyter <a href='command:jupyter.viewOutput'>log</a> for further details."
     ]
    }
   ],
   "source": [
    "# Task: Create Shape, Circle, and Rectangle classes with area() method.\n",
    "# Input: radius or length/width.\n",
    "# Output: Area of the shape.\n",
    "\n",
    "import math\n",
    "\n",
    "class Shape:\n",
    "    def area(self):\n",
    "        raise NotImplementedError\n",
    "\n",
    "class Circle(Shape):\n",
    "    def __init__(self, radius):\n",
    "        self.radius = radius\n",
    "    \n",
    "    def area(self):\n",
    "        return math.pi * self.radius ** 2\n",
    "\n",
    "class Rectangle(Shape):\n",
    "    def __init__(self, length, width):\n",
    "        self.length = length\n",
    "        self.width = width\n",
    "    \n",
    "    def area(self):\n",
    "        return self.length * self.width\n",
    "\n",
    "# Test Input\n",
    "circle = Circle(7)\n",
    "print(f\"{circle.area():.2f}\")  # Expected Output: ~153.94\n"
   ]
  },
  {
   "cell_type": "code",
   "execution_count": 12,
   "metadata": {},
   "outputs": [
    {
     "name": "stdout",
     "output_type": "stream",
     "text": [
      "True\n"
     ]
    }
   ],
   "source": [
    "# Task: Create a Library class that manages a list of Book objects.\n",
    "# Input: Book titles to add and search.\n",
    "# Output: Search result (True/False).\n",
    "\n",
    "class Book:\n",
    "    def __init__(self, title, author):\n",
    "        self.title = title\n",
    "        self.author = author\n",
    "\n",
    "class Library:\n",
    "    def __init__(self):\n",
    "        self.books = []\n",
    "    \n",
    "    def add_book(self, title, author):\n",
    "        self.books.append(Book(title, author))\n",
    "    \n",
    "    def search_by_title(self, title):\n",
    "        for book in self.books:\n",
    "            return book.title == title \n",
    "\n",
    "# Test Input\n",
    "lib = Library()\n",
    "lib.add_book(\"1984\", \"George Orwell\")\n",
    "print(lib.search_by_title(\"1984\"))  # Expected Output: True"
   ]
  }
 ],
 "metadata": {
  "kernelspec": {
   "display_name": "Python 3",
   "language": "python",
   "name": "python3"
  },
  "language_info": {
   "codemirror_mode": {
    "name": "ipython",
    "version": 3
   },
   "file_extension": ".py",
   "mimetype": "text/x-python",
   "name": "python",
   "nbconvert_exporter": "python",
   "pygments_lexer": "ipython3",
   "version": "3.12.4"
  }
 },
 "nbformat": 4,
 "nbformat_minor": 2
}
