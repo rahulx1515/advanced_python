{
 "cells": [
  {
   "cell_type": "code",
   "execution_count": null,
   "metadata": {},
   "outputs": [
    {
     "data": {
      "text/plain": [
       "['e', 'h', 'l', 'l', 'o']"
      ]
     },
     "execution_count": 10,
     "metadata": {},
     "output_type": "execute_result"
    }
   ],
   "source": [
    "## inheritance\n",
    "\n",
    "class MyClass(str):\n",
    "    def upper(self):\n",
    "        return 'nothing work'\n",
    "    def sort(self):\n",
    "        return sorted(self)\n",
    "\n",
    "# main code\n",
    "obj = MyClass('hello')\n",
    "obj2 = MyClass('hi')\n",
    "obj.sort()\n"
   ]
  },
  {
   "cell_type": "code",
   "execution_count": 12,
   "metadata": {},
   "outputs": [
    {
     "name": "stdout",
     "output_type": "stream",
     "text": [
      "This is a method in the Parent class.\n",
      "This is a method in the Child class.\n"
     ]
    }
   ],
   "source": [
    "## Single inheritance\n",
    "\n",
    "class Parent:\n",
    "    def show(self):\n",
    "        print(\"This is a method in the Parent class.\")\n",
    "\n",
    "class Child(Parent):\n",
    "    def display(self):\n",
    "        print(\"This is a method in the Child class.\")\n",
    "\n",
    "# Create an instance of the Child class\n",
    "obj = Child()\n",
    "obj.show()     # Accessing the parent class method\n",
    "obj.display()  # Accessing the child class method"
   ]
  },
  {
   "cell_type": "code",
   "execution_count": 16,
   "metadata": {},
   "outputs": [
    {
     "name": "stdout",
     "output_type": "stream",
     "text": [
      "This is method1 from Parent1.\n",
      "This is method2 from Parent2.\n",
      "This is method3 from Child.\n"
     ]
    }
   ],
   "source": [
    "## Multiple inheritance\n",
    "\n",
    "class Parent1:\n",
    "    def method1(self):\n",
    "        print(\"This is method1 from Parent1.\")\n",
    "\n",
    "class Parent2(Parent1):\n",
    "    def method2(self):\n",
    "        print(\"This is method2 from Parent2.\")\n",
    "\n",
    "class Child(Parent2):\n",
    "    def method3(self):\n",
    "        print(\"This is method3 from Child.\")\n",
    "\n",
    "# Create an instance of the Child class\n",
    "obj = Child()\n",
    "obj.method1()  # From Parent1\n",
    "obj.method2()  # From Parent2\n",
    "obj.method3()  # From Child\n",
    "\n",
    "\n",
    "    "
   ]
  },
  {
   "cell_type": "code",
   "execution_count": 17,
   "metadata": {},
   "outputs": [
    {
     "name": "stdout",
     "output_type": "stream",
     "text": [
      "This is a method from the Grandparent class.\n",
      "This is a method from the Parent class.\n",
      "This is a method from the Child class.\n"
     ]
    }
   ],
   "source": [
    "## Multilevel inheritance\n",
    "\n",
    "class Grandparent:\n",
    "    def method1(self):\n",
    "        print(\"This is a method from the Grandparent class.\")\n",
    "\n",
    "class Parent(Grandparent):\n",
    "    def method2(self):\n",
    "        print(\"This is a method from the Parent class.\")\n",
    "\n",
    "class Child(Parent):\n",
    "    def method3(self):\n",
    "        print(\"This is a method from the Child class.\")\n",
    "\n",
    "# Create an instance of the Child class\n",
    "obj = Child()\n",
    "obj.method1()  # From Grandparent\n",
    "obj.method2()  # From Parent\n",
    "obj.method3()  # From Child"
   ]
  },
  {
   "cell_type": "code",
   "execution_count": 18,
   "metadata": {},
   "outputs": [
    {
     "name": "stdout",
     "output_type": "stream",
     "text": [
      "This is a method in the Parent class.\n",
      "This is a method in the Child1 class.\n",
      "This is a method in the Parent class.\n",
      "This is a method in the Child2 class.\n"
     ]
    }
   ],
   "source": [
    "## Hierarchical inheritance\n",
    "\n",
    "class Parent:\n",
    "    def method1(self):\n",
    "        print(\"This is a method in the Parent class.\")\n",
    "\n",
    "class Child1(Parent):\n",
    "    def method2(self):\n",
    "        print(\"This is a method in the Child1 class.\")\n",
    "\n",
    "class Child2(Parent):\n",
    "    def method3(self):\n",
    "        print(\"This is a method in the Child2 class.\")\n",
    "\n",
    "# Instances of Child1 and Child2\n",
    "obj1 = Child1()\n",
    "obj2 = Child2()\n",
    "\n",
    "obj1.method1()  # From Parent\n",
    "obj1.method2()  # From Child1\n",
    "\n",
    "obj2.method1()  # From Parent\n",
    "obj2.method3()  # From Child2"
   ]
  },
  {
   "cell_type": "code",
   "execution_count": 21,
   "metadata": {},
   "outputs": [
    {
     "name": "stdout",
     "output_type": "stream",
     "text": [
      "This is a method in the Base class.\n",
      "This is a method in the Child1 class.\n",
      "This is a method in the Child2 class.\n",
      "This is a method in the GrandChild class.\n"
     ]
    }
   ],
   "source": [
    "## Hybrid inheritance\n",
    "\n",
    "class Base:\n",
    "    def method1(self):\n",
    "        print(\"This is a method in the Base class.\")\n",
    "\n",
    "class Child1(Base):\n",
    "    def method2(self):\n",
    "        print(\"This is a method in the Child1 class.\")\n",
    "\n",
    "class Child2(Base):\n",
    "    def method3(self):\n",
    "        print(\"This is a method in the Child2 class.\")\n",
    "\n",
    "class GrandChild(Child1, Child2):\n",
    "    def method4(self):\n",
    "        print(\"This is a method in the GrandChild class.\")\n",
    "\n",
    "# Create an instance of GrandChild\n",
    "obj = GrandChild()\n",
    "obj.method1()  # From Base\n",
    "obj.method2()  # From Child1\n",
    "obj.method3()  # From Child2\n",
    "obj.method4()  # From GrandChild"
   ]
  }
 ],
 "metadata": {
  "kernelspec": {
   "display_name": "Python 3",
   "language": "python",
   "name": "python3"
  },
  "language_info": {
   "codemirror_mode": {
    "name": "ipython",
    "version": 3
   },
   "file_extension": ".py",
   "mimetype": "text/x-python",
   "name": "python",
   "nbconvert_exporter": "python",
   "pygments_lexer": "ipython3",
   "version": "3.12.4"
  }
 },
 "nbformat": 4,
 "nbformat_minor": 2
}
