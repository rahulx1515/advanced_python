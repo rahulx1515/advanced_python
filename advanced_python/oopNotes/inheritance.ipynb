{
 "cells": [
  {
   "cell_type": "code",
   "execution_count": null,
   "metadata": {},
   "outputs": [
    {
     "name": "stdout",
     "output_type": "stream",
     "text": [
      "The dog barks.\n"
     ]
    }
   ],
   "source": [
    "### Inheritance --> it allows one class (called the child class or subclass) to acquire the properties and \n",
    "# behaviors (methods) of another class (called the parent class or superclass)\n",
    "\n",
    "## Single Inheritance -> A child class inherits from one parent class\n",
    "class Animal:  # Parent Class\n",
    "    def speak(self):\n",
    "        print(\"This animal makes a sound.\")\n",
    "\n",
    "class Dog(Animal):  # Child Class\n",
    "    def speak(self):\n",
    "        print(\"The dog barks.\")\n",
    "\n",
    "dog = Dog()\n",
    "dog.speak()  \n"
   ]
  },
  {
   "cell_type": "code",
   "execution_count": 1,
   "metadata": {},
   "outputs": [
    {
     "name": "stdout",
     "output_type": "stream",
     "text": [
      "This is method1 from Parent1.\n",
      "This is method2 from Parent2.\n"
     ]
    }
   ],
   "source": [
    "## Multiple Inheritance: A child class inherits from multiple parent classes\n",
    "class Parent1:\n",
    "    def method1(self):\n",
    "        print(\"This is method1 from Parent1.\")\n",
    "\n",
    "class Parent2:\n",
    "    def method2(self):\n",
    "        print(\"This is method2 from Parent2.\")\n",
    "\n",
    "class Child(Parent1, Parent2):\n",
    "    pass\n",
    "\n",
    "child = Child()\n",
    "child.method1()  \n",
    "child.method2()  "
   ]
  },
  {
   "cell_type": "code",
   "execution_count": 2,
   "metadata": {},
   "outputs": [
    {
     "name": "stdout",
     "output_type": "stream",
     "text": [
      "The dog barks.\n",
      "Mammals have hair or fur.\n"
     ]
    }
   ],
   "source": [
    "## Multilevel Inheritance: A class inherits from a child class, creating a chain.\n",
    "class Animal:\n",
    "    def speak(self):\n",
    "        print(\"This animal makes a sound.\")\n",
    "\n",
    "class Mammal(Animal):\n",
    "    def has_hair(self):\n",
    "        print(\"Mammals have hair or fur.\")\n",
    "\n",
    "class Dog(Mammal):\n",
    "    def speak(self):\n",
    "        print(\"The dog barks.\")\n",
    "\n",
    "dog = Dog()\n",
    "dog.speak()        \n",
    "dog.has_hair()"
   ]
  }
 ],
 "metadata": {
  "kernelspec": {
   "display_name": "Python 3",
   "language": "python",
   "name": "python3"
  },
  "language_info": {
   "codemirror_mode": {
    "name": "ipython",
    "version": 3
   },
   "file_extension": ".py",
   "mimetype": "text/x-python",
   "name": "python",
   "nbconvert_exporter": "python",
   "pygments_lexer": "ipython3",
   "version": "3.12.4"
  }
 },
 "nbformat": 4,
 "nbformat_minor": 2
}
