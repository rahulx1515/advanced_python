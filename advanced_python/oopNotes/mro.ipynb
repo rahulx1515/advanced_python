{
 "cells": [
  {
   "cell_type": "code",
   "execution_count": 1,
   "metadata": {},
   "outputs": [
    {
     "name": "stdout",
     "output_type": "stream",
     "text": [
      "(<class '__main__.C'>, <class '__main__.A'>, <class '__main__.B'>, <class 'object'>)\n"
     ]
    }
   ],
   "source": [
    "## MRO : Method Resolution Order\n",
    "\n",
    "class A:\n",
    "    def disp(self):\n",
    "        print('print from class A')\n",
    "\n",
    "class B:\n",
    "    def disp(self):\n",
    "        print('print from class B')\n",
    "\n",
    "class C(A, B):\n",
    "    pass\n",
    "\n",
    "print(C.__mro__)"
   ]
  },
  {
   "cell_type": "code",
   "execution_count": 2,
   "metadata": {},
   "outputs": [
    {
     "name": "stdout",
     "output_type": "stream",
     "text": [
      "(<class '__main__.C'>, <class '__main__.A'>, <class '__main__.B'>, <class 'object'>)\n"
     ]
    }
   ],
   "source": [
    "class sample:\n",
    "    pass\n",
    "\n",
    "obj = sample()\n",
    "print(C.__mro__)"
   ]
  },
  {
   "cell_type": "code",
   "execution_count": 3,
   "metadata": {},
   "outputs": [
    {
     "name": "stdout",
     "output_type": "stream",
     "text": [
      "(<class '__main__.C'>, <class '__main__.A'>, <class '__main__.B'>, <class '__main__.Parent'>, <class 'object'>)\n"
     ]
    }
   ],
   "source": [
    "class Parent:\n",
    "    def disp(self):\n",
    "        print('print from class A')\n",
    "\n",
    "class A(Parent):\n",
    "    def disp(self):\n",
    "        print('print from class B')\n",
    "\n",
    "class B(Parent):\n",
    "    def disp(self):\n",
    "        print('print from class B')\n",
    "\n",
    "class C(A, B):\n",
    "    pass\n",
    "\n",
    "print(C.__mro__)"
   ]
  },
  {
   "cell_type": "code",
   "execution_count": null,
   "metadata": {},
   "outputs": [
    {
     "name": "stdout",
     "output_type": "stream",
     "text": [
      "print from B\n",
      "print from A\n",
      "(<class '__main__.B'>, <class '__main__.A'>, <class 'object'>)\n"
     ]
    }
   ],
   "source": [
    "class A:\n",
    "    def disp(self):\n",
    "        print('print from A')\n",
    "\n",
    "class B(A):\n",
    "    def disp(self):\n",
    "        print('print from B')\n",
    "        super().disp()\n",
    "\n",
    "obj = B()\n",
    "obj.disp()\n",
    "print(B.__mro__)"
   ]
  },
  {
   "cell_type": "code",
   "execution_count": null,
   "metadata": {},
   "outputs": [
    {
     "name": "stdout",
     "output_type": "stream",
     "text": [
      "(<class '__main__.C'>, <class '__main__.A'>, <class '__main__.B'>, <class '__main__.Parent'>, <class 'object'>)\n",
      "print from class C\n",
      "print from class A\n",
      "print from class B\n"
     ]
    }
   ],
   "source": [
    "class Parent:\n",
    "    def disp(self):\n",
    "        print('print from parent')\n",
    "\n",
    "class A(Parent):\n",
    "    def disp(self):\n",
    "        print('print from class A')\n",
    "        super().disp()\n",
    "\n",
    "class B(Parent):\n",
    "    def disp(self):\n",
    "        print('print from class B')\n",
    "\n",
    "class C(A, B):\n",
    "    def disp(self):\n",
    "        print('print from class C')\n",
    "        super().disp()\n",
    "\n",
    "print(C.__mro__)\n",
    "obj = C()\n",
    "obj.disp()"
   ]
  },
  {
   "cell_type": "code",
   "execution_count": 6,
   "metadata": {},
   "outputs": [
    {
     "name": "stdout",
     "output_type": "stream",
     "text": [
      "Hello from D\n",
      "Hello from B\n",
      "Hello from C\n",
      "Hello from A\n"
     ]
    }
   ],
   "source": [
    "class A:\n",
    "    def greet(self):\n",
    "        print(\"Hello from A\")\n",
    "\n",
    "class B(A):\n",
    "    def greet(self):\n",
    "        print(\"Hello from B\")\n",
    "        super().greet()\n",
    "\n",
    "class C(A):\n",
    "    def greet(self):\n",
    "        print(\"Hello from C\")\n",
    "        super().greet()\n",
    "\n",
    "class D(B, C):\n",
    "    def greet(self):\n",
    "        print(\"Hello from D\")\n",
    "        super().greet()\n",
    "\n",
    "d = D()\n",
    "d.greet()"
   ]
  }
 ],
 "metadata": {
  "kernelspec": {
   "display_name": "Python 3",
   "language": "python",
   "name": "python3"
  },
  "language_info": {
   "codemirror_mode": {
    "name": "ipython",
    "version": 3
   },
   "file_extension": ".py",
   "mimetype": "text/x-python",
   "name": "python",
   "nbconvert_exporter": "python",
   "pygments_lexer": "ipython3",
   "version": "3.12.4"
  }
 },
 "nbformat": 4,
 "nbformat_minor": 2
}
