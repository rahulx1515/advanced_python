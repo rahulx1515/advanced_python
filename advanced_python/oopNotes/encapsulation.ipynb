{
 "cells": [
  {
   "cell_type": "code",
   "execution_count": 6,
   "metadata": {},
   "outputs": [
    {
     "name": "stdout",
     "output_type": "stream",
     "text": [
      "The name of person is Krish having age 32\n"
     ]
    }
   ],
   "source": [
    "### Encapsulation --> wrapping up data in single unit\n",
    "## Access Modifiers --> Public, Protected, Private\n",
    "\n",
    "### Private Access Modifier\n",
    "\n",
    "class Person:\n",
    "    def __init__(self, name, age):\n",
    "        self.__name=name\n",
    "        self.__age=age\n",
    "\n",
    "    def display_info(self):\n",
    "        print(f'The name of person is {self.__name} having age {self.__age}')\n",
    "\n",
    "person = Person(\"Krish\", 32)\n",
    "person.display_info()"
   ]
  },
  {
   "cell_type": "code",
   "execution_count": null,
   "metadata": {},
   "outputs": [
    {
     "name": "stdout",
     "output_type": "stream",
     "text": [
      "The name of person is Krish and the age is 33\n"
     ]
    }
   ],
   "source": [
    "### Protected Access Modifier\n",
    "\n",
    "class Person:\n",
    "    def __init__(self, name, age):\n",
    "        self._name=name\n",
    "        self._age=age\n",
    "\n",
    "person = Person(\"Krish\", 32)\n",
    "\n",
    "class Student(Person):\n",
    "    def __init__(self, name, age):\n",
    "        super().__init__(name, age)\n",
    "        \n",
    "    def display_info(self):\n",
    "        print(f'The name of person is {self._name} and the age is {self._age}')\n",
    "\n",
    "student1 = Student(\"Krish\", 33)\n",
    "student1.display_info()\n"
   ]
  },
  {
   "cell_type": "code",
   "execution_count": 1,
   "metadata": {},
   "outputs": [],
   "source": [
    "### Public Access Modifier\n",
    "\n",
    "class Person:\n",
    "    def __init__(self, name, age):\n",
    "        self.name = name\n",
    "        self.age = age"
   ]
  }
 ],
 "metadata": {
  "kernelspec": {
   "display_name": "Python 3",
   "language": "python",
   "name": "python3"
  },
  "language_info": {
   "codemirror_mode": {
    "name": "ipython",
    "version": 3
   },
   "file_extension": ".py",
   "mimetype": "text/x-python",
   "name": "python",
   "nbconvert_exporter": "python",
   "pygments_lexer": "ipython3",
   "version": "3.12.4"
  }
 },
 "nbformat": 4,
 "nbformat_minor": 2
}
