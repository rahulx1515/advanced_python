{
 "cells": [
  {
   "cell_type": "code",
   "execution_count": 5,
   "metadata": {},
   "outputs": [
    {
     "name": "stdout",
     "output_type": "stream",
     "text": [
      "connected to database\n",
      "mobile security\n",
      "login on mobile\n",
      "display\n"
     ]
    }
   ],
   "source": [
    "### Abstraction --> way of hiding the implementation details of feature and \n",
    "### showing only essential parts to the user.\n",
    "\n",
    "from abc import ABC,abstractmethod\n",
    "class BankApp(ABC):\n",
    "    def database(self):\n",
    "        print('connected to database')\n",
    "         \n",
    "    @abstractmethod\n",
    "    def security(self):\n",
    "        pass\n",
    "\n",
    "    @abstractmethod\n",
    "    def display(self):\n",
    "        pass\n",
    "\n",
    "class MobileApp(BankApp):\n",
    "    def mobile_login(self):\n",
    "        print('login on mobile')\n",
    "    def security(self):\n",
    "        print('mobile security')\n",
    "    def display(self):\n",
    "        print('display')\n",
    "\n",
    "mob = MobileApp()\n",
    "mob.database()\n",
    "mob.security()\n",
    "mob.mobile_login()\n",
    "mob.display()\n"
   ]
  }
 ],
 "metadata": {
  "kernelspec": {
   "display_name": "Python 3",
   "language": "python",
   "name": "python3"
  },
  "language_info": {
   "codemirror_mode": {
    "name": "ipython",
    "version": 3
   },
   "file_extension": ".py",
   "mimetype": "text/x-python",
   "name": "python",
   "nbconvert_exporter": "python",
   "pygments_lexer": "ipython3",
   "version": "3.12.4"
  }
 },
 "nbformat": 4,
 "nbformat_minor": 2
}
