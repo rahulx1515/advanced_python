{
 "cells": [
  {
   "cell_type": "code",
   "execution_count": 2,
   "metadata": {},
   "outputs": [
    {
     "name": "stdout",
     "output_type": "stream",
     "text": [
      "faculty id: 2415800066\n",
      "faculty name: rahul\n"
     ]
    }
   ],
   "source": [
    "## Class --> blueprint of objects\n",
    "## Objects --> instances of the classes\n",
    "class Company:\n",
    "    def putdata(self):\n",
    "        self.id = int(input(\"enter ur id\"))\n",
    "        self.name = input(\"enter ur name\")\n",
    "    def display(self):\n",
    "        print(\"faculty id:\", self.id)\n",
    "        print(\"faculty name:\", self.name)\n",
    "obj = Company()\n",
    "obj.putdata()\n",
    "obj.display()\n"
   ]
  },
  {
   "cell_type": "code",
   "execution_count": null,
   "metadata": {},
   "outputs": [
    {
     "name": "stdout",
     "output_type": "stream",
     "text": [
      "id of faculty: 456\n",
      "name of faculty: pandaa\n"
     ]
    }
   ],
   "source": [
    "## Constructor -> __init__\n",
    "\n",
    "class Faculty:\n",
    "    def __init__(self):\n",
    "        self.id = int(input())\n",
    "        self.name = input()\n",
    "    def display(self):\n",
    "        print(\"id of faculty:\", self.id)\n",
    "        print(\"name of faculty:\", self.name)\n",
    "obj1 = Faculty()\n",
    "obj1.display()\n"
   ]
  },
  {
   "cell_type": "code",
   "execution_count": 3,
   "metadata": {},
   "outputs": [
    {
     "name": "stdout",
     "output_type": "stream",
     "text": [
      "id: 1\n",
      "name: varun\n",
      "salary: 35000\n"
     ]
    }
   ],
   "source": [
    "class Faculty:\n",
    "    def __init__(self, a, b, c):\n",
    "        self.a = a\n",
    "        self.b = b\n",
    "        self.c = c\n",
    "    def display(self):\n",
    "        print(\"id:\", self.a)\n",
    "        print(\"name:\", self.b)\n",
    "        print(\"salary:\", self.c)\n",
    "obj = Faculty(1, \"varun\", 35000)\n",
    "obj.display()"
   ]
  },
  {
   "cell_type": "code",
   "execution_count": 12,
   "metadata": {},
   "outputs": [
    {
     "name": "stdout",
     "output_type": "stream",
     "text": [
      "Student: Rishabh has 7441 id pursuing B.Tech from GLA Mathura\n",
      "Student: Dhakad has 9874 id pursuing B.Tech from GLA Mathura\n"
     ]
    }
   ],
   "source": [
    "class University:\n",
    "    def __init__(self, name, id):\n",
    "        self.name=name\n",
    "        self.id=id\n",
    "        \n",
    "    def display(self):\n",
    "        print(f\"Student: {self.name} has {self.id} id pursuing B.Tech from GLA Mathura\")\n",
    "        \n",
    "obj1 = University(\"Rishabh\", 7441)\n",
    "obj2 = University(\"Dhakad\", 9874)\n",
    "obj1.display()\n",
    "obj2.display()\n",
    "\n"
   ]
  }
 ],
 "metadata": {
  "kernelspec": {
   "display_name": "Python 3",
   "language": "python",
   "name": "python3"
  },
  "language_info": {
   "codemirror_mode": {
    "name": "ipython",
    "version": 3
   },
   "file_extension": ".py",
   "mimetype": "text/x-python",
   "name": "python",
   "nbconvert_exporter": "python",
   "pygments_lexer": "ipython3",
   "version": "3.12.4"
  }
 },
 "nbformat": 4,
 "nbformat_minor": 2
}
