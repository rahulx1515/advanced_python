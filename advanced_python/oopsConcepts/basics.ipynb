{
 "cells": [
  {
   "cell_type": "code",
   "execution_count": null,
   "metadata": {},
   "outputs": [],
   "source": [
    "#Addition of two numbers\n",
    "class calc():\n",
    "    def add(self, a, b):\n",
    "        return a+b\n",
    "\n",
    "num1 = 23\n",
    "num2 = 34\n",
    "obj = calc()\n",
    "out = obj.add(num1, num2)\n",
    "print(out)"
   ]
  },
  {
   "cell_type": "code",
   "execution_count": 1,
   "metadata": {},
   "outputs": [
    {
     "name": "stdout",
     "output_type": "stream",
     "text": [
      "['23', 34, 56, '98', 55, 12]\n"
     ]
    }
   ],
   "source": [
    "## Operator overloading\n",
    "\n",
    "'+'\n",
    "\n",
    "a = ['23', 34, 56]\n",
    "b = ['98', 55, 12]\n",
    "c = a + b\n",
    "print(c)"
   ]
  },
  {
   "cell_type": "code",
   "execution_count": 4,
   "metadata": {},
   "outputs": [
    {
     "name": "stdout",
     "output_type": "stream",
     "text": [
      "this is + operation\n"
     ]
    }
   ],
   "source": [
    "class Sample1:\n",
    "    def __add__(self, other):\n",
    "        return \"this is + operation\"\n",
    "\n",
    "# main\n",
    "obj1 = Sample1()\n",
    "obj2 = Sample1()\n",
    "\n",
    "c = obj1 + obj2\n",
    "print(c)\n"
   ]
  },
  {
   "cell_type": "code",
   "execution_count": 9,
   "metadata": {},
   "outputs": [
    {
     "name": "stdout",
     "output_type": "stream",
     "text": [
      "57 <class '__main__.CustomNumber'>\n"
     ]
    }
   ],
   "source": [
    "class CustomNumber:\n",
    "    def __init__(self, value):\n",
    "        self.value = value\n",
    "    def __add__(self, other):\n",
    "        if isinstance(other, CustomNumber):\n",
    "            return CustomNumber(self.value + other.value)\n",
    "        else:\n",
    "            return CustomNumber(self.value + other)\n",
    "    def __str__(self):\n",
    "        return f'{self.value}'\n",
    "\n",
    "# main\n",
    "a = CustomNumber(12)\n",
    "b = CustomNumber(2)\n",
    "c = a + 45\n",
    "print(c, type(c))\n"
   ]
  },
  {
   "cell_type": "code",
   "execution_count": 1,
   "metadata": {},
   "outputs": [
    {
     "name": "stdout",
     "output_type": "stream",
     "text": [
      "False\n",
      "True\n"
     ]
    }
   ],
   "source": [
    "a = 1 + 5\n",
    "print(isinstance(a, str))\n",
    "print(isinstance(a, int))"
   ]
  },
  {
   "cell_type": "code",
   "execution_count": 13,
   "metadata": {},
   "outputs": [
    {
     "name": "stdout",
     "output_type": "stream",
     "text": [
      "-33 <class '__main__.CustomNumber'>\n"
     ]
    }
   ],
   "source": [
    "class CustomNumber:\n",
    "    def __init__(self, value):\n",
    "        self.value = value\n",
    "    def __sub__(self, other):\n",
    "        if isinstance(other, CustomNumber):\n",
    "            return CustomNumber(self.value - other.value)\n",
    "        else:\n",
    "            return CustomNumber(self.value - other)\n",
    "    def __str__(self):\n",
    "        return f'{self.value}'\n",
    "\n",
    "# main\n",
    "a = CustomNumber(12)\n",
    "b = CustomNumber(2)\n",
    "c = a - 45\n",
    "print(c, type(c))"
   ]
  },
  {
   "cell_type": "code",
   "execution_count": 14,
   "metadata": {},
   "outputs": [
    {
     "name": "stdout",
     "output_type": "stream",
     "text": [
      "540 <class '__main__.CustomNumber'>\n"
     ]
    }
   ],
   "source": [
    "class CustomNumber:\n",
    "    def __init__(self, value):\n",
    "        self.value = value\n",
    "    def __mul__(self, other):\n",
    "        if isinstance(other, CustomNumber):\n",
    "            return CustomNumber(self.value * other.value)\n",
    "        else:\n",
    "            return CustomNumber(self.value * other)\n",
    "    def __str__(self):\n",
    "        return f'{self.value}'\n",
    "\n",
    "# main\n",
    "a = CustomNumber(12)\n",
    "b = CustomNumber(2)\n",
    "c = a * 45\n",
    "print(c, type(c))"
   ]
  },
  {
   "cell_type": "code",
   "execution_count": 16,
   "metadata": {},
   "outputs": [
    {
     "name": "stdout",
     "output_type": "stream",
     "text": [
      "5 <class '__main__.CustomNumber'>\n"
     ]
    }
   ],
   "source": [
    "class CustomNumber:\n",
    "    def __init__(self, value):\n",
    "        self.value = value\n",
    "    def __floordiv__(self, other):\n",
    "        if isinstance(other, CustomNumber):\n",
    "            return CustomNumber(self.value // other.value)\n",
    "        else:\n",
    "            return CustomNumber(self.value // other)\n",
    "    def __str__(self):\n",
    "        return f'{self.value}'\n",
    "\n",
    "# main\n",
    "a = CustomNumber(235)\n",
    "b = CustomNumber(2)\n",
    "c = a // 45\n",
    "print(c, type(c))"
   ]
  },
  {
   "cell_type": "code",
   "execution_count": 22,
   "metadata": {},
   "outputs": [
    {
     "name": "stdout",
     "output_type": "stream",
     "text": [
      "0.5111111111111111 <class '__main__.CustomNumber'>\n"
     ]
    }
   ],
   "source": [
    "class CustomNumber:\n",
    "    def __init__(self, value):\n",
    "        self.value = value\n",
    "    def __truediv__(self, other):\n",
    "        if isinstance(other, CustomNumber):\n",
    "            return CustomNumber(self.value / other.value)\n",
    "        else:\n",
    "            return CustomNumber(self.value / other)\n",
    "    def __str__(self):\n",
    "        return f'{self.value}'\n",
    "    \n",
    "a = CustomNumber(23)\n",
    "b = CustomNumber(12)\n",
    "c = a / 45\n",
    "print(c, type(c))"
   ]
  },
  {
   "cell_type": "code",
   "execution_count": 24,
   "metadata": {},
   "outputs": [
    {
     "name": "stdout",
     "output_type": "stream",
     "text": [
      "(5, 9)\n"
     ]
    }
   ],
   "source": [
    "class Point:\n",
    "    def __init__(self, x, y):\n",
    "        self.x = x\n",
    "        self.y = y\n",
    "    def __add__(self, other):\n",
    "        return Point(self.x + other.x, self.y + other.y)\n",
    "    def __str__(self):\n",
    "        return f'{self.x, self.y}'\n",
    "    \n",
    "p1 = Point(3, 4)\n",
    "p2 = Point(2, 5)\n",
    "p3 = p1 + p2\n",
    "print(p3)"
   ]
  },
  {
   "cell_type": "code",
   "execution_count": 1,
   "metadata": {},
   "outputs": [
    {
     "name": "stdout",
     "output_type": "stream",
     "text": [
      "1\n"
     ]
    }
   ],
   "source": [
    "class Counter:\n",
    "    def __init__(self):\n",
    "        self.count = 0\n",
    "\n",
    "    def increment(self):\n",
    "        self.count += 1\n",
    "\n",
    "    def decrement(self):\n",
    "        self.count -= 1\n",
    "\n",
    "    def get_count(self):\n",
    "        return self.count\n",
    "\n",
    "# using the Counter class\n",
    "counter = Counter()\n",
    "counter.increment()\n",
    "counter.increment()\n",
    "counter.decrement()\n",
    "print(counter.get_count())\n"
   ]
  }
 ],
 "metadata": {
  "kernelspec": {
   "display_name": "Python 3",
   "language": "python",
   "name": "python3"
  },
  "language_info": {
   "codemirror_mode": {
    "name": "ipython",
    "version": 3
   },
   "file_extension": ".py",
   "mimetype": "text/x-python",
   "name": "python",
   "nbconvert_exporter": "python",
   "pygments_lexer": "ipython3",
   "version": "3.12.4"
  }
 },
 "nbformat": 4,
 "nbformat_minor": 2
}
