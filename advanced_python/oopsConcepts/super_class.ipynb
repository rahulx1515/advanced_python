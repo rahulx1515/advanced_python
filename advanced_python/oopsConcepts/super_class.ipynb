{
 "cells": [
  {
   "cell_type": "code",
   "execution_count": 1,
   "metadata": {},
   "outputs": [
    {
     "name": "stdout",
     "output_type": "stream",
     "text": [
      " Kitty sounds Meow...\n"
     ]
    }
   ],
   "source": [
    "## Super class or base class\n",
    "## Is-A relationship\n",
    "## Cat is a animal\n",
    "class Animal:\n",
    "    def __init__(self, name):\n",
    "        self.name = name\n",
    "    def sound(self):\n",
    "        return 'Generuc Sound'\n",
    "\n",
    "# subclass or child class\n",
    "\n",
    "class Cat(Animal):\n",
    "    def sound(self):\n",
    "        return f' {self.name} sounds Meow...'  ## elipsis - (...)\n",
    "\n",
    "\n",
    "obj = Cat('Kitty')\n",
    "print(obj.sound())"
   ]
  },
  {
   "cell_type": "code",
   "execution_count": 3,
   "metadata": {},
   "outputs": [
    {
     "name": "stdout",
     "output_type": "stream",
     "text": [
      "\n",
      "Name : Ravi\n",
      "Employee ID : gla123\n",
      "Salary : 10000\n",
      "\n"
     ]
    }
   ],
   "source": [
    "# Component class\n",
    "\n",
    "class Employee:\n",
    "    def __init__(self, name, emp_id, salary):\n",
    "        self.name = name\n",
    "        self.emp_id = emp_id\n",
    "        self.salary = salary\n",
    "    \n",
    "    def disp_info(self):\n",
    "        print(f'''\n",
    "Name : {self.name}\n",
    "Employee ID : {self.emp_id}\n",
    "Salary : {self.salary}\n",
    "''')\n",
    "        "
   ]
  },
  {
   "cell_type": "code",
   "execution_count": null,
   "metadata": {},
   "outputs": [],
   "source": [
    "# Container Class\n",
    "\n",
    "class Management:\n",
    "    def __init__(self, emp):\n",
    "        self.emp = emp  # Has-A relationship : it has other object\n",
    "        \n",
    "\n",
    "emp1 = Employee('Ravi', 'gla123', 10000)\n",
    "system = Management(emp1)\n",
    "system.emp.disp_info()\n",
    "\n"
   ]
  },
  {
   "cell_type": "code",
   "execution_count": 4,
   "metadata": {},
   "outputs": [
    {
     "ename": "AttributeError",
     "evalue": "'dict' object has no attribute 'disp_info'",
     "output_type": "error",
     "traceback": [
      "\u001b[1;31m---------------------------------------------------------------------------\u001b[0m",
      "\u001b[1;31mAttributeError\u001b[0m                            Traceback (most recent call last)",
      "Cell \u001b[1;32mIn[4], line 13\u001b[0m\n\u001b[0;32m     11\u001b[0m emp1 \u001b[38;5;241m=\u001b[39m Employee(\u001b[38;5;124m'\u001b[39m\u001b[38;5;124mRavi\u001b[39m\u001b[38;5;124m'\u001b[39m, \u001b[38;5;124m'\u001b[39m\u001b[38;5;124mgla123\u001b[39m\u001b[38;5;124m'\u001b[39m, \u001b[38;5;241m10000\u001b[39m)\n\u001b[0;32m     12\u001b[0m system \u001b[38;5;241m=\u001b[39m Management(emp1)\n\u001b[1;32m---> 13\u001b[0m \u001b[43msystem\u001b[49m\u001b[38;5;241;43m.\u001b[39;49m\u001b[43memp\u001b[49m\u001b[38;5;241;43m.\u001b[39;49m\u001b[43mdisp_info\u001b[49m()\n",
      "\u001b[1;31mAttributeError\u001b[0m: 'dict' object has no attribute 'disp_info'"
     ]
    }
   ],
   "source": [
    "# Container Class\n",
    "\n",
    "class Management:\n",
    "    def __init__(self, emp):\n",
    "        self.emp = {}  \n",
    "\n",
    "    def add_emp(self, emp):\n",
    "        self.emp[emp.emp_id] = emp # Has-A relationship with type composition\n",
    "        \n",
    "\n",
    "emp1 = Employee('Ravi', 'gla123', 10000)\n",
    "system = Management(emp1)\n",
    "system.emp.disp_info()\n",
    "\n"
   ]
  }
 ],
 "metadata": {
  "kernelspec": {
   "display_name": "Python 3",
   "language": "python",
   "name": "python3"
  },
  "language_info": {
   "codemirror_mode": {
    "name": "ipython",
    "version": 3
   },
   "file_extension": ".py",
   "mimetype": "text/x-python",
   "name": "python",
   "nbconvert_exporter": "python",
   "pygments_lexer": "ipython3",
   "version": "3.12.4"
  }
 },
 "nbformat": 4,
 "nbformat_minor": 2
}
