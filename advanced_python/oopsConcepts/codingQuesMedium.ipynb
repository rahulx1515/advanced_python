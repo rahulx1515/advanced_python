{
 "cells": [
  {
   "cell_type": "code",
   "execution_count": 9,
   "metadata": {},
   "outputs": [
    {
     "name": "stdout",
     "output_type": "stream",
     "text": [
      "[[6, 8], [10, 12]]\n",
      "[[19, 22], [43, 50]]\n",
      "[[1, 3], [2, 4]]\n"
     ]
    }
   ],
   "source": [
    "# Task: Implement a Matrix class that supports +, *, and == operations using operator overloading.\n",
    "# Constraints:\n",
    "# Handle matrix dimension mismatches with custom exceptions\n",
    "# Implement transpose as a property\n",
    "\n",
    "class MatrixDimensionError(Exception):\n",
    "    pass\n",
    "\n",
    "class Matrix:\n",
    "    def __init__(self, data):\n",
    "        self.data = data  # 2D list\n",
    "        self.rows = len(data)\n",
    "        self.cols = len(data[0]) if self.rows > 0 else 0\n",
    "    \n",
    "    def __add__(self, other):\n",
    "        if self.rows != other.rows or self.cols != other.cols:\n",
    "            raise MatrixDimensionError(\"Matrix dimensions must match for addition.\")\n",
    "        return Matrix([[self.data[i][j] + other.data[i][j] for j in range(self.cols)] for i in range(self.rows)])\n",
    "    \n",
    "    def __mul__(self, other):\n",
    "        if self.cols != other.rows:\n",
    "            raise MatrixDimensionError(\"Matrix multiplication not possible: column count of first must equal row count of second.\")\n",
    "        result = [[sum(self.data[i][k] * other.data[k][j] for k in range(self.cols)) for j in range(other.cols)] for i in range(self.rows)]\n",
    "        return Matrix(result)\n",
    "    \n",
    "    def __eq__(self, other):\n",
    "        return self.data == other.data\n",
    "    \n",
    "    @property\n",
    "    def transpose(self):\n",
    "        return Matrix([[self.data[j][i] for j in range(self.rows)] for i in range(self.cols)])\n",
    "\n",
    "# Test Input\n",
    "m1 = Matrix([[1, 2], [3, 4]])\n",
    "m2 = Matrix([[5, 6], [7, 8]])\n",
    "print((m1 + m2).data)  # [[6,8],[10,12]]\n",
    "print((m1 * m2).data)  # [[19,22],[43,50]]\n",
    "print(m1.transpose.data)  # [[1,3],[2,4]]\n"
   ]
  },
  {
   "cell_type": "code",
   "execution_count": null,
   "metadata": {},
   "outputs": [
    {
     "name": "stdout",
     "output_type": "stream",
     "text": [
      "ALERT: AAPL now at 155\n"
     ]
    }
   ],
   "source": [
    "# Task: Create a Subject class and Observer interface for a stock price notification system.\n",
    "# Requirements:\n",
    "# Observers get notified when price changes\n",
    "# Prevent duplicate observers\n",
    "\n",
    "from abc import ABC, abstractmethod\n",
    "\n",
    "class Observer(ABC):\n",
    "    @abstractmethod\n",
    "    def update(self, symbol, price):\n",
    "        pass\n",
    "\n",
    "class Subject(ABC):\n",
    "    def __init__(self):\n",
    "        self._observers = set()\n",
    "    \n",
    "    def attach(self, observer):\n",
    "        self._observers.add(observer)\n",
    "\n",
    "    def detach(self, observer):\n",
    "        self._observers.discard(observer)\n",
    "\n",
    "    def _notify(self, symbol, price):\n",
    "        for observer in self._observers:\n",
    "            observer.update(symbol, price)\n",
    "\n",
    "class Stock(Subject):\n",
    "    def __init__(self, symbol, price):\n",
    "        super().__init__()\n",
    "        self.symbol = symbol\n",
    "        self._price = price\n",
    "\n",
    "    @property\n",
    "    def price(self):\n",
    "        return self._price\n",
    "    \n",
    "    @price.setter\n",
    "    def price(self, value):\n",
    "        self._price = value\n",
    "        self._notify(self.symbol, value)\n",
    "\n",
    "# Test Case\n",
    "class PriceAlert(Observer):\n",
    "    def update(self, symbol, price):\n",
    "        print(f\"ALERT: {symbol} now at {price}\")\n",
    "\n",
    "apple = Stock(\"AAPL\", 150)\n",
    "alert = PriceAlert()\n",
    "\n",
    "apple.attach(alert)\n",
    "apple.price = 155  # Should trigger alert"
   ]
  },
  {
   "cell_type": "code",
   "execution_count": 11,
   "metadata": {},
   "outputs": [
    {
     "name": "stdout",
     "output_type": "stream",
     "text": [
      "Starting electric motor\n",
      "Refueling tank\n"
     ]
    }
   ],
   "source": [
    "# Task: Create a HybridCar that inherits from both ElectricCar and CombustionCar, resolving method conflicts.\n",
    "class Engine:\n",
    "    def start(self):\n",
    "        raise NotImplementedError\n",
    "\n",
    "class ElectricCar(Engine):\n",
    "    def start(self):\n",
    "        return \"Starting electric motor\"\n",
    "    \n",
    "    def charge(self):\n",
    "        return \"Charging battery\"\n",
    "\n",
    "class CombustionCar(Engine):\n",
    "    def start(self):\n",
    "        return \"Starting gasoline engine\"\n",
    "    \n",
    "    def refuel(self):\n",
    "        return \"Refueling tank\"\n",
    "\n",
    "class HybridCar(ElectricCar, CombustionCar):\n",
    "    def start(self):\n",
    "        return super().start()  # Calls ElectricCar's start method first\n",
    "\n",
    "# Test Cases\n",
    "prius = HybridCar()\n",
    "print(prius.start())   # \"Starting electric motor\"\n",
    "print(prius.refuel())  # \"Refueling tank\"\n",
    "\n"
   ]
  },
  {
   "cell_type": "code",
   "execution_count": 12,
   "metadata": {},
   "outputs": [
    {
     "name": "stdout",
     "output_type": "stream",
     "text": [
      "[[0.0041669  0.03024616]]\n"
     ]
    }
   ],
   "source": [
    "# Task: Implement an abstract Layer class with enforced forward/backward methods, then create Dense and ReLU subclasses.\n",
    "\n",
    "from abc import ABC, abstractmethod\n",
    "import numpy as np\n",
    "\n",
    "class Layer(ABC):\n",
    "    @abstractmethod\n",
    "    def forward(self, x):\n",
    "        pass\n",
    "    \n",
    "    @abstractmethod\n",
    "    def backward(self, grad):\n",
    "        pass\n",
    "\n",
    "class Dense(Layer):\n",
    "    def __init__(self, input_size, output_size):\n",
    "        self.weights = np.random.randn(input_size, output_size) * 0.01\n",
    "        self.biases = np.zeros((1, output_size))\n",
    "\n",
    "    def forward(self, x):\n",
    "        self.input = x\n",
    "        return np.dot(x, self.weights) + self.biases\n",
    "\n",
    "    def backward(self, grad):\n",
    "        dW = np.dot(self.input.T, grad)\n",
    "        db = np.sum(grad, axis=0, keepdims=True)\n",
    "        return dW, db\n",
    "\n",
    "# Test Case\n",
    "dense = Dense(3, 2)\n",
    "input_data = np.array([[1, 2, 3]])\n",
    "print(dense.forward(input_data))  # Computes matrix product\n"
   ]
  },
  {
   "cell_type": "code",
   "execution_count": null,
   "metadata": {},
   "outputs": [
    {
     "name": "stdout",
     "output_type": "stream",
     "text": [
      "True\n",
      "Connection 1\n",
      "Connection 2\n",
      "1\n"
     ]
    },
    {
     "ename": "",
     "evalue": "",
     "output_type": "error",
     "traceback": [
      "\u001b[1;31mThe Kernel crashed while executing code in the current cell or a previous cell. \n",
      "\u001b[1;31mPlease review the code in the cell(s) to identify a possible cause of the failure. \n",
      "\u001b[1;31mClick <a href='https://aka.ms/vscodeJupyterKernelCrash'>here</a> for more info. \n",
      "\u001b[1;31mView Jupyter <a href='command:jupyter.viewOutput'>log</a> for further details."
     ]
    }
   ],
   "source": [
    "# Task: Implement a singleton DatabasePool class with connection limits.\n",
    "# Requirements:\n",
    "# Maximum 5 connections\n",
    "# Track active connections\n",
    "# Raise custom error when pool exhausted\n",
    "\n",
    "class DatabasePoolError(Exception):\n",
    "    pass\n",
    "\n",
    "class DatabasePool:\n",
    "    _instance = None\n",
    "    _MAX_CONNECTIONS = 5\n",
    "\n",
    "    def __new__(cls):\n",
    "        if cls._instance is None:\n",
    "            cls._instance = super().__new__(cls)\n",
    "            cls._instance._connections = 0\n",
    "        return cls._instance\n",
    "\n",
    "    def __init__(self):\n",
    "        \"\"\"Ensure __init__ does not reset the connection count when called multiple times.\"\"\"\n",
    "        if not hasattr(self, \"_initialized\"):\n",
    "            self._initialized = True  # Prevent reinitialization\n",
    "\n",
    "    def get_connection(self):\n",
    "        if self._connections >= self._MAX_CONNECTIONS:\n",
    "            raise DatabasePoolError(\"Connection pool exhausted.\")\n",
    "        self._connections += 1\n",
    "        return f\"Connection {self._connections}\"\n",
    "\n",
    "    def release_connection(self):\n",
    "        if self._connections > 0:\n",
    "            self._connections -= 1\n",
    "\n",
    "# Test Cases\n",
    "pool1 = DatabasePool()\n",
    "pool2 = DatabasePool()\n",
    "print(pool1 is pool2)  # True (Singleton)\n",
    "\n",
    "conn1 = pool1.get_connection()\n",
    "print(conn1)  # \"Connection 1\"\n",
    "\n",
    "conn2 = pool1.get_connection()\n",
    "print(conn2)  # \"Connection 2\"\n",
    "\n",
    "pool1.release_connection()\n",
    "print(pool1._connections)  # 1 (since one connection was released)\n",
    "\n"
   ]
  }
 ],
 "metadata": {
  "kernelspec": {
   "display_name": "Python 3",
   "language": "python",
   "name": "python3"
  },
  "language_info": {
   "codemirror_mode": {
    "name": "ipython",
    "version": 3
   },
   "file_extension": ".py",
   "mimetype": "text/x-python",
   "name": "python",
   "nbconvert_exporter": "python",
   "pygments_lexer": "ipython3",
   "version": "3.12.4"
  }
 },
 "nbformat": 4,
 "nbformat_minor": 2
}
