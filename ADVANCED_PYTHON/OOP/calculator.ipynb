{
 "cells": [
  {
   "cell_type": "code",
   "execution_count": null,
   "metadata": {},
   "outputs": [],
   "source": [
    "class Calculator:\n",
    "    def __init__(self):\n",
    "        pass\n",
    "\n",
    "    def add(self, a, b):\n",
    "        print(a + b) \n",
    "\n",
    "    def subtract(self, a, b):\n",
    "        print(a - b)\n",
    "\n",
    "    def multiply(self, a, b):\n",
    "        print(a * b)\n",
    "\n",
    "    def divide(self, a, b):\n",
    "        if b == 0:\n",
    "            print(\"Error! Division by zero.\")\n",
    "        print(a / b)\n",
    "\n",
    "def main():\n",
    "    calc = Calculator()\n",
    "\n",
    "    print(\"Select operation:\")\n",
    "    print(\"1. Add\")\n",
    "    print(\"2. Subtract\")\n",
    "    print(\"3. Multiply\")\n",
    "    print(\"4. Divide\")\n",
    "\n",
    "    choice = input(\"Enter choice(1/2/3/4): \")\n",
    "\n",
    "    num1 = float(input(\"Enter first number: \"))\n",
    "    num2 = float(input(\"Enter second number: \"))\n",
    "\n",
    "    if choice == '1':\n",
    "        print(f\"{num1} + {num2} = {calc.add(num1, num2)}\")\n",
    "    elif choice == '2':\n",
    "        print(f\"{num1} - {num2} = {calc.subtract(num1, num2)}\")\n",
    "    elif choice == '3':\n",
    "        print(f\"{num1} * {num2} = {calc.multiply(num1, num2)}\")\n",
    "    elif choice == '4':\n",
    "        print(f\"{num1} / {num2} = {calc.divide(num1, num2)}\")\n",
    "    else:\n",
    "        print(\"Invalid input\")\n",
    "\n",
    "if __name__ == \"__main__\":\n",
    "    main()\n"
   ]
  }
 ],
 "metadata": {
  "kernelspec": {
   "display_name": "Python 3",
   "language": "python",
   "name": "python3"
  },
  "language_info": {
   "codemirror_mode": {
    "name": "ipython",
    "version": 3
   },
   "file_extension": ".py",
   "mimetype": "text/x-python",
   "name": "python",
   "nbconvert_exporter": "python",
   "pygments_lexer": "ipython3",
   "version": "3.12.4"
  }
 },
 "nbformat": 4,
 "nbformat_minor": 2
}
