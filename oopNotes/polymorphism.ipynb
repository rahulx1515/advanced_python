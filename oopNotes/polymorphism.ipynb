{
 "cells": [
  {
   "cell_type": "code",
   "execution_count": 6,
   "metadata": {},
   "outputs": [
    {
     "name": "stdout",
     "output_type": "stream",
     "text": [
      "5\n",
      "15\n",
      "30\n"
     ]
    }
   ],
   "source": [
    "### Polymorphism --> The ability of different objects to respond in their own way to same method or function call.\n",
    "\n",
    "# Overloading --> same method name with different parameters(same functions, diff inputs)\n",
    "class Calculator:\n",
    "    def add(self, a, b=0, c=0):\n",
    "        print(a+b+c)\n",
    "\n",
    "calc = Calculator()\n",
    "calc.add(5)\n",
    "calc.add(5, 10)\n",
    "calc.add(5, 10, 15)\n"
   ]
  },
  {
   "cell_type": "code",
   "execution_count": 5,
   "metadata": {},
   "outputs": [
    {
     "name": "stdout",
     "output_type": "stream",
     "text": [
      "Some sound\n",
      "Bark\n",
      "Meow\n"
     ]
    }
   ],
   "source": [
    "# Overriding --> same method name in parent and child classes(same function, diff classes)\n",
    "class Animal:\n",
    "    def speak(self):\n",
    "        print(\"Some sound\")\n",
    "\n",
    "class Dog(Animal):\n",
    "    def speak(self):\n",
    "        print(\"Bark\")\n",
    "\n",
    "class Cat(Animal):\n",
    "    def speak(self):\n",
    "        print(\"Meow\")\n",
    "\n",
    "animal = Animal()\n",
    "animal.speak()\n",
    "dog = Dog()\n",
    "dog.speak()\n",
    "cat = Cat()\n",
    "cat.speak()"
   ]
  }
 ],
 "metadata": {
  "kernelspec": {
   "display_name": "Python 3",
   "language": "python",
   "name": "python3"
  },
  "language_info": {
   "codemirror_mode": {
    "name": "ipython",
    "version": 3
   },
   "file_extension": ".py",
   "mimetype": "text/x-python",
   "name": "python",
   "nbconvert_exporter": "python",
   "pygments_lexer": "ipython3",
   "version": "3.12.4"
  }
 },
 "nbformat": 4,
 "nbformat_minor": 2
}
